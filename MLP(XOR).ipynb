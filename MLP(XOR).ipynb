{
  "nbformat": 4,
  "nbformat_minor": 0,
  "metadata": {
    "colab": {
      "provenance": [],
      "authorship_tag": "ABX9TyN3ZX/Y25cyFtCzf0/yJg0g",
      "include_colab_link": true
    },
    "kernelspec": {
      "name": "python3",
      "display_name": "Python 3"
    },
    "language_info": {
      "name": "python"
    }
  },
  "cells": [
    {
      "cell_type": "markdown",
      "metadata": {
        "id": "view-in-github",
        "colab_type": "text"
      },
      "source": [
        "<a href=\"https://colab.research.google.com/github/Sharukesh-M/PRODIGY_GA_Task1/blob/main/MLP(XOR).ipynb\" target=\"_parent\"><img src=\"https://colab.research.google.com/assets/colab-badge.svg\" alt=\"Open In Colab\"/></a>"
      ]
    },
    {
      "cell_type": "code",
      "execution_count": 4,
      "metadata": {
        "colab": {
          "base_uri": "https://localhost:8080/"
        },
        "id": "R6tFVR-rQEcB",
        "outputId": "08ac4d02-03bd-4e3d-b2bf-abf53a263974"
      },
      "outputs": [
        {
          "output_type": "stream",
          "name": "stdout",
          "text": [
            "\u001b[1m1/1\u001b[0m \u001b[32m━━━━━━━━━━━━━━━━━━━━\u001b[0m\u001b[37m\u001b[0m \u001b[1m0s\u001b[0m 47ms/step\n",
            "[[0.00987253]\n",
            " [0.9902534 ]\n",
            " [0.99006736]\n",
            " [0.00966268]]\n",
            "\u001b[1m1/1\u001b[0m \u001b[32m━━━━━━━━━━━━━━━━━━━━\u001b[0m\u001b[37m\u001b[0m \u001b[1m0s\u001b[0m 146ms/step - binary_accuracy: 1.0000 - loss: 0.0099\n",
            "Accuracy:100.00\n"
          ]
        }
      ],
      "source": [
        "import numpy as np\n",
        "from tensorflow.keras.models import Sequential\n",
        "from tensorflow.keras.layers import Dense\n",
        "x=np.array([[0,0],[0,1],[1,1],[1,0]])\n",
        "y=np.array([0,1,1,0])\n",
        "models=Sequential()\n",
        "models.add(Dense(120,input_dim=2,activation='sigmoid'))\n",
        "models.add(Dense(1,activation='sigmoid'))\n",
        "models.compile(loss='binary_crossentropy',optimizer='adam',metrics=['binary_accuracy'])\n",
        "models.fit(x,y,epochs=1000,verbose=0)\n",
        "print(models.predict(x))\n",
        "accuracy=models.evaluate(x,y)\n",
        "print('Accuracy:%.2f'%(accuracy[1]*100))"
      ]
    },
    {
      "cell_type": "code",
      "source": [],
      "metadata": {
        "id": "ZzA3AadERtaQ"
      },
      "execution_count": null,
      "outputs": []
    }
  ]
}